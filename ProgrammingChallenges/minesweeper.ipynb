{
 "cells": [
  {
   "cell_type": "code",
   "execution_count": null,
   "metadata": {},
   "outputs": [],
   "source": [
    "def adjacent(width, height, row, column):\n",
    "    adjacent = []\n",
    "    for r in range((0 if (row - 1) < 0 else (row - 1)), ((row + 2) if (row + 2) < height else height)):\n",
    "        for c in range((0 if (column - 1) < 0 else (column - 1)), ((column + 2) if (column + 2) < width else width)):\n",
    "            if r != row or c != column:\n",
    "                adjacent.append((r * width) + c)\n",
    "    return adjacent"
   ]
  },
  {
   "cell_type": "code",
   "execution_count": null,
   "metadata": {},
   "outputs": [],
   "source": [
    "width = 8\n",
    "height = 8"
   ]
  },
  {
   "cell_type": "code",
   "execution_count": null,
   "metadata": {},
   "outputs": [],
   "source": [
    "import random\n",
    "mines = []\n",
    "for i in range(0, random.randrange((width * height) // 5, (width * height) // 3)):\n",
    "    mines.append(random.randrange(0, width * height))\n",
    "\n",
    "mines = set(mines)"
   ]
  },
  {
   "cell_type": "code",
   "execution_count": null,
   "metadata": {},
   "outputs": [],
   "source": [
    "minefield = ['.'] * (width * height)\n",
    "for m in mines:\n",
    "    minefield[m] = '*'"
   ]
  },
  {
   "cell_type": "code",
   "execution_count": null,
   "metadata": {},
   "outputs": [],
   "source": [
    "for m in range(0, height):\n",
    " print('{}'.format(minefield[(m * width) : (m * width) + (width)]))"
   ]
  },
  {
   "cell_type": "code",
   "execution_count": null,
   "metadata": {},
   "outputs": [],
   "source": [
    "hints = [0] * (width * height)"
   ]
  },
  {
   "cell_type": "code",
   "execution_count": null,
   "metadata": {},
   "outputs": [],
   "source": [
    "for m in mines:\n",
    "    adj = adjacent(width, height, (m // width), (m % width))\n",
    "    for a in adj:\n",
    "        hints[a] += 1\n",
    "\n",
    "for m in mines:\n",
    "    hints[m] = -1"
   ]
  },
  {
   "cell_type": "code",
   "execution_count": null,
   "metadata": {},
   "outputs": [],
   "source": [
    "for h in range(0, height):\n",
    " print('{}'.format(hints[(h * width) : (h * width) + (width)]))"
   ]
  },
  {
   "cell_type": "code",
   "execution_count": null,
   "metadata": {},
   "outputs": [],
   "source": [
    "sel_row = 7\n",
    "sel_col = 5\n",
    "board = ['.'] * (width * height)"
   ]
  },
  {
   "cell_type": "code",
   "execution_count": null,
   "metadata": {},
   "outputs": [],
   "source": [
    "if hints[(sel_row * width) + sel_col] == -1:\n",
    "    print(\"BOOM\")\n",
    "\n",
    "elif hints[(sel_row * width) + sel_col] > 0:\n",
    "    board[(sel_row * width) + sel_col] = str(hints[(sel_row * width) + sel_col])\n",
    "\n",
    "else:\n",
    "    zero_cache = [(sel_row * width) + sel_col]\n",
    "    zeroes = []\n",
    "    \n",
    "    while zero_cache:\n",
    "        z = zero_cache.pop()\n",
    "        zeroes.append(z)\n",
    "        adj = adjacent(width, height, (z // width), (z % width))\n",
    "        \n",
    "        for a in adj:\n",
    "            board[a] = str(hints[a])\n",
    "            if (hints[a] == 0) and (a not in zeroes):\n",
    "                zero_cache.append(a)\n",
    "    \n",
    "    for z in zeroes:\n",
    "        board[z] = '0'"
   ]
  },
  {
   "cell_type": "code",
   "execution_count": null,
   "metadata": {},
   "outputs": [],
   "source": [
    "for h in range(0, height):\n",
    " print('{}'.format(board[(h * width) : (h * width) + (width)]))"
   ]
  }
 ],
 "metadata": {
  "kernelspec": {
   "display_name": "Python 3",
   "language": "python",
   "name": "python3"
  },
  "language_info": {
   "codemirror_mode": {
    "name": "ipython",
    "version": 3
   },
   "file_extension": ".py",
   "mimetype": "text/x-python",
   "name": "python",
   "nbconvert_exporter": "python",
   "pygments_lexer": "ipython3",
   "version": "3.7.5rc1"
  }
 },
 "nbformat": 4,
 "nbformat_minor": 4
}
