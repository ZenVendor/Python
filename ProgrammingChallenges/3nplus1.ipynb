{
 "cells": [
  {
   "cell_type": "code",
   "execution_count": 34,
   "metadata": {},
   "outputs": [],
   "source": [
    "numbers = '900 1000'"
   ]
  },
  {
   "cell_type": "code",
   "execution_count": 35,
   "metadata": {},
   "outputs": [
    {
     "name": "stdout",
     "output_type": "stream",
     "text": [
      "900 1000 174\n"
     ]
    }
   ],
   "source": [
    "rng = numbers.split(' ')\n",
    "cycle_length = []\n",
    "\n",
    "for number in range(int(rng[0]), int(rng[1]) + 1):\n",
    "    counter = 1\n",
    "    #print('{}'.format(number), end='')\n",
    "    \n",
    "    while number != 1:\n",
    "        if number % 2 == 0:\n",
    "            number /= 2\n",
    "        else:\n",
    "            number = (number * 3) + 1\n",
    "            \n",
    "        counter += 1\n",
    "        #print (' {}'.format(number), end='')\n",
    "    \n",
    "    #print(' -- {}'.format(counter))\n",
    "    cycle_length.append(counter)\n",
    "\n",
    "print('{} {}'.format(numbers, max(cycle_length)))\n"
   ]
  }
 ],
 "metadata": {
  "kernelspec": {
   "display_name": "Python 3",
   "language": "python",
   "name": "python3"
  },
  "language_info": {
   "codemirror_mode": {
    "name": "ipython",
    "version": 3
   },
   "file_extension": ".py",
   "mimetype": "text/x-python",
   "name": "python",
   "nbconvert_exporter": "python",
   "pygments_lexer": "ipython3",
   "version": "3.7.4+"
  }
 },
 "nbformat": 4,
 "nbformat_minor": 4
}
